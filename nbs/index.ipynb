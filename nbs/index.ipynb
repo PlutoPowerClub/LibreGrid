{
 "cells": [
  {
   "cell_type": "markdown",
   "metadata": {},
   "source": [
    "# LibreGrid\n",
    "\n",
    "> Power by and for the people, literally.\n",
    "\n",
    "Welcome! LibreGrid is a FastHTML web app for managing virtual decentralized energy grids. It is designed to be used by communities to manage their own energy production and consumption."
   ]
  },
  {
   "cell_type": "markdown",
   "metadata": {},
   "source": [
    "## Installation\n",
    "\n",
    "> Open source, open energy, open future.\n",
    "\n",
    "```bash\n",
    "git clone https://github.com/PlutoPowerClub/LibreGrid.git\n",
    "cd LibreGrid\n",
    "python3 -m venv .venv\n",
    "source .venv/bin/activate\n",
    "pip install -Uqq pip\n",
    "pip install -r requirements.txt\n",
    "```"
   ]
  },
  {
   "cell_type": "markdown",
   "metadata": {},
   "source": [
    "## Usage\n",
    "\n",
    "> Watt are you waiting for? Try it out!\n",
    "\n",
    "```bash\n",
    "python main.py\n",
    "```\n"
   ]
  },
  {
   "cell_type": "markdown",
   "metadata": {},
   "source": [
    "## Contribute\n",
    "\n",
    "> Together we shine brighter.\n",
    "\n",
    "See [CONTRIBUTING.md](CONTRIBUTING.md) for ways to get started."
   ]
  },
  {
   "cell_type": "markdown",
   "metadata": {},
   "source": [
    "## Community\n",
    "\n",
    "* Discord: coming soon"
   ]
  }
 ],
 "metadata": {},
 "nbformat": 4,
 "nbformat_minor": 2
}
