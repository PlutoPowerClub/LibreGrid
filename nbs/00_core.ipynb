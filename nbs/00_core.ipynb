{
 "cells": [
  {
   "cell_type": "code",
   "execution_count": null,
   "metadata": {},
   "outputs": [],
   "source": [
    "#| default_exp core"
   ]
  },
  {
   "cell_type": "markdown",
   "metadata": {},
   "source": [
    "# Core\n",
    "\n",
    "Useful functions and utilities for LibreGrid."
   ]
  },
  {
   "cell_type": "code",
   "execution_count": 94,
   "metadata": {},
   "outputs": [],
   "source": [
    "#| export\n",
    "import httpx\n",
    "import asyncio\n",
    "import os\n",
    "import requests\n",
    "import random\n",
    "from dotenv import load_dotenv\n",
    "from datetime import datetime, timedelta"
   ]
  },
  {
   "cell_type": "code",
   "execution_count": 46,
   "metadata": {},
   "outputs": [],
   "source": [
    "# Fetching environment variables\n",
    "load_dotenv()\n",
    "solar_key = os.environ['API_SOLAR_KEY']"
   ]
  },
  {
   "cell_type": "code",
   "execution_count": null,
   "metadata": {},
   "outputs": [],
   "source": [
    "#| export\n",
    "def get_smart_meter_data():\n",
    "    \"Python function to get smart meter data from Octopus Home Mini API\"\n",
    "    OE_API_KEY = os.getenv(\"OE_API_KEY\")\n",
    "    # TODO"
   ]
  },
  {
   "cell_type": "code",
   "execution_count": 3,
   "metadata": {},
   "outputs": [],
   "source": [
    "#| export\n",
    "def get_solar_building_insights(solar_key, latitude, longitude):\n",
    "    url = 'https://solar.googleapis.com/v1/buildingInsights:findClosest'\n",
    "    params = {\n",
    "    'location.latitude': latitude,\n",
    "    'location.longitude': longitude,\n",
    "    'requiredQuality': 'LOW',\n",
    "    'key':solar_key\n",
    "    }\n",
    "    response = requests.get(url, params=params)\n",
    "    return response.json()"
   ]
  },
  {
   "cell_type": "code",
   "execution_count": 4,
   "metadata": {},
   "outputs": [],
   "source": [
    "## test = get_solar_building_insights(solar_key=solar_key, latitude=37.4449739, longitude=-122.13914659999998)"
   ]
  },
  {
   "cell_type": "code",
   "execution_count": 29,
   "metadata": {},
   "outputs": [],
   "source": [
    "def fetch_meter_usage(MPAN_import,serial_number):\n",
    "    api_key = os.environ['phil_key']\n",
    "    url = f\"https://api.octopus.energy/v1/electricity-meter-points/{MPAN_import}/meters/{serial_number}/consumption/\"\n",
    "    params = {\n",
    "        \"period_from\":\"2024-01-01 00:00:00\",\n",
    "        \"period_to\":\"2024-07-30 00:00:00\",\n",
    "        \"page_size\":\"20\"\n",
    "    }\n",
    "    response = requests.get(url,auth=(api_key,''), params = params)\n",
    "    return response.json()\n",
    "    "
   ]
  },
  {
   "cell_type": "code",
   "execution_count": 30,
   "metadata": {},
   "outputs": [],
   "source": [
    "test = fetch_meter_usage(os.environ['MPAN_import'],os.environ['serial_number'])"
   ]
  },
  {
   "cell_type": "code",
   "execution_count": 97,
   "metadata": {},
   "outputs": [],
   "source": [
    "#| export\n",
    "async def fetch_latest_meter_data():\n",
    "    \"Function to get last hour of meter consumption data\" \n",
    "    api_key = os.environ['phil_key']\n",
    "    mpan = os.environ['MPAN_import']\n",
    "    serial_num = os.environ['serial_number']\n",
    "\n",
    "    end_time = datetime.now()\n",
    "    start_time = end_time - timedelta(hours=10)\n",
    "    url = f\"https://api.octopus.energy/v1/electricity-meter-points/{mpan}/meters/{serial_num}/consumption/\"\n",
    "    params = {\n",
    "        #\"period_from\":start_time.isoformat(),\n",
    "        #\"period_to\":end_time.isoformat(),\n",
    "        #'group_by':'hour',\n",
    "        \"page_size\":\"2\"\n",
    "    }\n",
    "    async with httpx.AsyncClient() as client:\n",
    "        response = await client.get(url, auth=(api_key, ''), params=params)\n",
    "        if response.status_code == 200:\n",
    "            data = response.json()\n",
    "            return data['results'] if data['results'] else None\n",
    "        else:\n",
    "            print(f\"Request failed with status code: {response.status_code}\")\n",
    "            return None\n",
    "    "
   ]
  },
  {
   "cell_type": "code",
   "execution_count": 134,
   "metadata": {},
   "outputs": [],
   "source": [
    "#| export\n",
    "def round_now_to_last_half_hour():\n",
    "    \"Helper function to round current time to last half hour\"\n",
    "    dt = datetime.now()\n",
    "    rounded = dt.replace(second=0, microsecond=0)\n",
    "    if rounded.minute >= 30:\n",
    "        rounded = rounded.replace(minute=30)\n",
    "    else:\n",
    "        rounded = rounded.replace(minute=0)\n",
    "    return rounded"
   ]
  },
  {
   "cell_type": "code",
   "execution_count": 141,
   "metadata": {},
   "outputs": [],
   "source": [
    "#| export\n",
    "def dummy_meter(page_size=2):\n",
    "    \"Meter data simulator that just generates random consumption values at every full half hour, at a given interval\"\n",
    "    responses = []\n",
    "    for item in range(0,page_size): \n",
    "        start_time = round_now_to_last_half_hour() - timedelta(minutes=30*(item+1))\n",
    "        end_time = round_now_to_last_half_hour() - timedelta(minutes=30*(item))\n",
    "        entry = {\n",
    "            'consumption': round(random.uniform(0, 0.3), 3),\n",
    "            'interval_start': start_time.isoformat(),\n",
    "            'interval_end': end_time.isoformat()\n",
    "        }\n",
    "        responses.append(entry)\n",
    "    return responses\n",
    "        \n",
    "    "
   ]
  },
  {
   "cell_type": "code",
   "execution_count": null,
   "metadata": {},
   "outputs": [],
   "source": []
  }
 ],
 "metadata": {
  "kernelspec": {
   "display_name": "my_kernel",
   "language": "python",
   "name": "my_kernel"
  },
  "language_info": {
   "codemirror_mode": {
    "name": "ipython",
    "version": 3
   },
   "file_extension": ".py",
   "mimetype": "text/x-python",
   "name": "python",
   "nbconvert_exporter": "python",
   "pygments_lexer": "ipython3",
   "version": "3.11.9"
  }
 },
 "nbformat": 4,
 "nbformat_minor": 4
}
