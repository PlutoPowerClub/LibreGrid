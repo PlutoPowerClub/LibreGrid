{
 "cells": [
  {
   "cell_type": "code",
   "execution_count": null,
   "metadata": {},
   "outputs": [],
   "source": [
    "#| default_exp core"
   ]
  },
  {
   "cell_type": "markdown",
   "metadata": {},
   "source": [
    "# Core\n",
    "\n",
    "Useful functions and utilities for LibreGrid."
   ]
  },
  {
   "cell_type": "code",
   "execution_count": 2,
   "metadata": {},
   "outputs": [],
   "source": [
    "#| export\n",
    "import httpx\n",
    "import asyncio\n",
    "import os\n",
    "import requests\n",
    "import random\n",
    "import sqlite3\n",
    "import aiosqlite\n",
    "import json\n",
    "from dotenv import load_dotenv\n",
    "from datetime import datetime, timedelta"
   ]
  },
  {
   "cell_type": "markdown",
   "metadata": {},
   "source": [
    "API keys are stored in a .env file which is not commited.\n",
    "\n",
    "It looks like this: \n",
    "```\n",
    "API_SOLAR_KEY='<>'\n",
    "MPAN_import='<>'\n",
    "MPAN_export='<>'\n",
    "username='<>'\n",
    "phil_key='<>'\n",
    "serial_number='<>'\n",
    "```"
   ]
  },
  {
   "cell_type": "code",
   "execution_count": 3,
   "metadata": {},
   "outputs": [],
   "source": [
    "# Fetching environment variables\n",
    "load_dotenv()\n",
    "solar_key = os.environ['API_SOLAR_KEY']"
   ]
  },
  {
   "cell_type": "markdown",
   "metadata": {},
   "source": [
    "# 1) Solar API tools"
   ]
  },
  {
   "cell_type": "markdown",
   "metadata": {},
   "source": [
    "Below is code to use the Solar API but this API usage is not free. Instead use the solar response that's saved in the json in the repo."
   ]
  },
  {
   "cell_type": "code",
   "execution_count": 11,
   "metadata": {},
   "outputs": [],
   "source": [
    "# Load the JSON file\n",
    "with open('solar_api_response.json', 'r') as file:\n",
    "    data = json.load(file)"
   ]
  },
  {
   "cell_type": "code",
   "execution_count": 24,
   "metadata": {},
   "outputs": [],
   "source": [
    "#| export\n",
    "def get_solar_building_insights(solar_key, latitude, longitude):\n",
    "    \"\"\"\n",
    "    Call Google Solar building insights API\n",
    "    \"\"\"\n",
    "    url = 'https://solar.googleapis.com/v1/buildingInsights:findClosest'\n",
    "    params = {\n",
    "    'location.latitude': latitude,\n",
    "    'location.longitude': longitude,\n",
    "    'requiredQuality': 'LOW',\n",
    "    'key':solar_key\n",
    "    }\n",
    "    response = requests.get(url, params=params)\n",
    "    return response.json()"
   ]
  },
  {
   "cell_type": "code",
   "execution_count": 26,
   "metadata": {},
   "outputs": [],
   "source": [
    "#| export\n",
    "def return_energy_solar_api(building_insights):\n",
    "    \"\"\"\n",
    "    Get the solar potential for a building.\n",
    "    The solar api gives the potential for many different array setups, so we take one somewhere around the third of number of panels.\n",
    "    \"\"\"\n",
    "    third = round(building_insights['solarPotential']['maxArrayPanelsCount']/3)\n",
    "    \n",
    "    energy_dc = (item for item in building_insights['solarPotential']['solarPanelConfigs'] if (item[\"panelsCount\"] == third or item[\"panelsCount\"] == third+1 or item[\"panelsCount\"] == third-1))\n",
    "    \n",
    "    return list(energy_dc)[0]['yearlyEnergyDcKwh']"
   ]
  },
  {
   "cell_type": "markdown",
   "metadata": {},
   "source": [
    "# 2) Kraken smart meter reading tools"
   ]
  },
  {
   "cell_type": "code",
   "execution_count": 4,
   "metadata": {},
   "outputs": [],
   "source": [
    "#| export\n",
    "def fetch_meter_usage(MPAN_import,serial_number, period_from, period_to):\n",
    "    # period_from, period_to format: \"YYYY-MM-dd hh:mm:ss\"\n",
    "    api_key = os.environ['phil_key']\n",
    "    url = f\"https://api.octopus.energy/v1/electricity-meter-points/{MPAN_import}/meters/{serial_number}/consumption/\"\n",
    "    params = {\n",
    "        \"period_from\":f'{period_from}',\n",
    "        \"period_to\":f'{period_to}',\n",
    "        \"page_size\":\"20\"\n",
    "    }\n",
    "    response = requests.get(url,auth=(api_key,''), params = params)\n",
    "    return response.json()\n",
    "    "
   ]
  },
  {
   "cell_type": "code",
   "execution_count": 12,
   "metadata": {},
   "outputs": [],
   "source": [
    "#| export\n",
    "def fetch_latest_meter_data(api_key, mpan, serial_num):\n",
    "    \"\"\"\n",
    "    Function to get last hour of meter consumption data\n",
    "    \"\"\" \n",
    "    end_time = datetime.now()\n",
    "    start_time = end_time - timedelta(hours=10)\n",
    "    url = f\"https://api.octopus.energy/v1/electricity-meter-points/{mpan}/meters/{serial_num}/consumption/\"\n",
    "    params = {\n",
    "        #\"period_from\":start_time.isoformat(),\n",
    "        #\"period_to\":end_time.isoformat(),\n",
    "        #'group_by':'hour',\n",
    "        \"page_size\":\"2\"\n",
    "    }\n",
    "    \n",
    "    response = requests.get(url, auth=(api_key, ''), params=params)\n",
    "    if response.status_code == 200:\n",
    "        data = response.json()\n",
    "        results = data['results'] if data['results'] else None\n",
    "        if results:\n",
    "            for result in results:\n",
    "                result['mpan_import'] = mpan\n",
    "                result['serial_number'] = serial_num\n",
    "        return results\n",
    "    else:\n",
    "        print(f\"Request failed with status code: {response.status_code}\")\n",
    "        return None\n",
    "    "
   ]
  },
  {
   "cell_type": "code",
   "execution_count": 6,
   "metadata": {},
   "outputs": [],
   "source": [
    "#| export\n",
    "def round_now_to_last_half_hour():\n",
    "    \"\"\"\n",
    "    Helper function to round current time to last half hour\n",
    "    \"\"\"\n",
    "    dt = datetime.now()\n",
    "    rounded = dt.replace(second=0, microsecond=0)\n",
    "    if rounded.minute >= 30:\n",
    "        rounded = rounded.replace(minute=30)\n",
    "    else:\n",
    "        rounded = rounded.replace(minute=0)\n",
    "    return rounded"
   ]
  },
  {
   "cell_type": "code",
   "execution_count": 96,
   "metadata": {},
   "outputs": [],
   "source": [
    "#| export\n",
    "def dummy_meter(page_size=2):\n",
    "    \"\"\"\n",
    "    Meter data simulator that just generates random consumption values at every full half hour, at a given interval\n",
    "    \"\"\"\n",
    "    responses = []\n",
    "    for item in range(0,page_size): \n",
    "        start_time = round_now_to_last_half_hour() - timedelta(minutes=30*(item+1))\n",
    "        end_time = round_now_to_last_half_hour() - timedelta(minutes=30*(item))\n",
    "        entry = {\n",
    "            'mpan_import': 'dummy',\n",
    "            'serial_number': f'dummy:{int(random.uniform(1,100))}',\n",
    "            'consumption': round(random.uniform(0, 0.3), 3),\n",
    "            'interval_start': start_time.isoformat(),\n",
    "            'interval_end': end_time.isoformat()\n",
    "        }\n",
    "        responses.append(entry)\n",
    "    return responses\n",
    "        \n",
    "    "
   ]
  },
  {
   "cell_type": "markdown",
   "metadata": {},
   "source": [
    "# 3) Store meter readings in database tools"
   ]
  },
  {
   "cell_type": "code",
   "execution_count": 16,
   "metadata": {},
   "outputs": [],
   "source": [
    "#| export\n",
    "async def insert_meter_data(consumption_list):\n",
    "    \"\"\"\n",
    "    Function to insert data into the libergrid database\n",
    "    Doing async in case there is a lot of data\n",
    "    \"\"\"\n",
    "    async with aiosqlite.connect('libregrid.db') as db:\n",
    "        await db.executemany('''\n",
    "        INSERT OR REPLACE INTO meter_data (mpan_import, serial_number, interval_start, interval_end, consumption)\n",
    "        VALUES (:mpan_import, :serial_number, :interval_start, :interval_end, :consumption)\n",
    "        ''', consumption_list)\n",
    "        await db.commit()"
   ]
  },
  {
   "cell_type": "code",
   "execution_count": 28,
   "metadata": {},
   "outputs": [],
   "source": [
    "#| export\n",
    "async def get_meter_data():\n",
    "    \"\"\"\n",
    "    Get data from database. Again async to be able to do other stuff while it's reading.\n",
    "    \"\"\"\n",
    "    async with aiosqlite.connect('libregrid.db') as db:\n",
    "        async with db.execute('SELECT * FROM meter_data') as cursor:\n",
    "            rows = await cursor.fetchall()\n",
    "            columns = [description[0] for description in cursor.description]\n",
    "            return [dict(zip(columns, row)) for row in rows]"
   ]
  },
  {
   "cell_type": "markdown",
   "metadata": {},
   "source": [
    "## Example insert data into database workflow\n",
    "I setup a local SQLite database to store the energy data from smart meters."
   ]
  },
  {
   "cell_type": "code",
   "execution_count": 14,
   "metadata": {},
   "outputs": [],
   "source": [
    "# Set up a database\n",
    "connection = sqlite3.connect('libregrid.db')"
   ]
  },
  {
   "cell_type": "code",
   "execution_count": 15,
   "metadata": {},
   "outputs": [],
   "source": [
    "# Set up my table for meter data\n",
    "cursor = connection.cursor()\n",
    "cursor.execute('''\n",
    "CREATE TABLE IF NOT EXISTS meter_data (\n",
    "mpan_import TEXT,\n",
    "serial_number TEXT,\n",
    "interval_start TEXT,\n",
    "interval_end TEXT,\n",
    "consumption REAL,\n",
    "PRIMARY KEY (mpan_import, serial_number, interval_start)\n",
    ")\n",
    "''')\n",
    "connection.commit()"
   ]
  },
  {
   "cell_type": "code",
   "execution_count": 20,
   "metadata": {},
   "outputs": [],
   "source": [
    "# I fetch and insert the latest data\n",
    "\n",
    "api_key = os.environ['phil_key']\n",
    "mpan = os.environ['MPAN_import']\n",
    "serial_num = os.environ['serial_number']\n",
    "latest_data = fetch_latest_meter_data(api_key, mpan, serial_num)\n",
    "latest_data\n",
    "\n",
    "await insert_meter_data(latest_data)"
   ]
  },
  {
   "cell_type": "code",
   "execution_count": 22,
   "metadata": {},
   "outputs": [
    {
     "data": {
      "text/plain": [
       "[{'mpan_import': '1413985791007',\n",
       "  'serial_number': '21J0016813',\n",
       "  'interval_start': '2024-08-20T00:30:00+01:00',\n",
       "  'interval_end': '2024-08-20T01:00:00+01:00',\n",
       "  'consumption': 0.144},\n",
       " {'mpan_import': '1413985791007',\n",
       "  'serial_number': '21J0016813',\n",
       "  'interval_start': '2024-08-20T00:00:00+01:00',\n",
       "  'interval_end': '2024-08-20T00:30:00+01:00',\n",
       "  'consumption': 0.143},\n",
       " {'mpan_import': '1413985791007',\n",
       "  'serial_number': '21J0016813',\n",
       "  'interval_start': '2024-10-02T00:30:00+01:00',\n",
       "  'interval_end': '2024-10-02T01:00:00+01:00',\n",
       "  'consumption': 0.171},\n",
       " {'mpan_import': '1413985791007',\n",
       "  'serial_number': '21J0016813',\n",
       "  'interval_start': '2024-10-02T00:00:00+01:00',\n",
       "  'interval_end': '2024-10-02T00:30:00+01:00',\n",
       "  'consumption': 0.404}]"
      ]
     },
     "execution_count": 22,
     "metadata": {},
     "output_type": "execute_result"
    }
   ],
   "source": [
    "# I get the latest data from the database\n",
    "await get_meter_data()"
   ]
  },
  {
   "cell_type": "code",
   "execution_count": 23,
   "metadata": {},
   "outputs": [],
   "source": [
    "# I close the connection to the database \n",
    "connection.close()"
   ]
  },
  {
   "cell_type": "code",
   "execution_count": null,
   "metadata": {},
   "outputs": [],
   "source": []
  }
 ],
 "metadata": {
  "kernelspec": {
   "display_name": "my_kernel",
   "language": "python",
   "name": "my_kernel"
  },
  "language_info": {
   "codemirror_mode": {
    "name": "ipython",
    "version": 3
   },
   "file_extension": ".py",
   "mimetype": "text/x-python",
   "name": "python",
   "nbconvert_exporter": "python",
   "pygments_lexer": "ipython3",
   "version": "3.11.9"
  }
 },
 "nbformat": 4,
 "nbformat_minor": 4
}
