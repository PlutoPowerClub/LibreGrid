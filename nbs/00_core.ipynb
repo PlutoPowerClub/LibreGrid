{
 "cells": [
  {
   "cell_type": "code",
   "execution_count": null,
   "metadata": {},
   "outputs": [],
   "source": [
    "#| default_exp core"
   ]
  },
  {
   "cell_type": "markdown",
   "metadata": {},
   "source": [
    "# Core\n",
    "\n",
    "Useful functions and utilities for LibreGrid."
   ]
  },
  {
   "cell_type": "code",
   "execution_count": 10,
   "metadata": {},
   "outputs": [],
   "source": [
    "#| export\n",
    "import httpx\n",
    "import asyncio\n",
    "import os\n",
    "import requests\n",
    "import random\n",
    "import sqlite3\n",
    "import aiosqlite\n",
    "import json\n",
    "from dotenv import load_dotenv\n",
    "from datetime import datetime, timedelta"
   ]
  },
  {
   "cell_type": "code",
   "execution_count": 2,
   "metadata": {},
   "outputs": [],
   "source": [
    "# Fetching environment variables\n",
    "load_dotenv()\n",
    "solar_key = os.environ['API_SOLAR_KEY']"
   ]
  },
  {
   "cell_type": "code",
   "execution_count": null,
   "metadata": {},
   "outputs": [],
   "source": [
    "#| export\n",
    "def get_smart_meter_data():\n",
    "    \"Python function to get smart meter data from Octopus Home Mini API\"\n",
    "    OE_API_KEY = os.getenv(\"OE_API_KEY\")\n",
    "    # TODO"
   ]
  },
  {
   "cell_type": "code",
   "execution_count": 3,
   "metadata": {},
   "outputs": [],
   "source": [
    "#| export\n",
    "def get_solar_building_insights(solar_key, latitude, longitude):\n",
    "    url = 'https://solar.googleapis.com/v1/buildingInsights:findClosest'\n",
    "    params = {\n",
    "    'location.latitude': latitude,\n",
    "    'location.longitude': longitude,\n",
    "    'requiredQuality': 'LOW',\n",
    "    'key':solar_key\n",
    "    }\n",
    "    response = requests.get(url, params=params)\n",
    "    return response.json()"
   ]
  },
  {
   "cell_type": "code",
   "execution_count": 11,
   "metadata": {},
   "outputs": [],
   "source": [
    "# Load the JSON file\n",
    "with open('solar_api_response.json', 'r') as file:\n",
    "    data = json.load(file)"
   ]
  },
  {
   "cell_type": "code",
   "execution_count": 38,
   "metadata": {},
   "outputs": [],
   "source": [
    "def return_energy(building_insights):\n",
    "    third = round(building_insights['solarPotential']['maxArrayPanelsCount']/3)\n",
    "    \n",
    "    energy_dc = (item for item in building_insights['solarPotential']['solarPanelConfigs'] if (item[\"panelsCount\"] == third or item[\"panelsCount\"] == third+1 or item[\"panelsCount\"] == third-1))\n",
    "    \n",
    "    return list(energy_dc)[0]['yearlyEnergyDcKwh']"
   ]
  },
  {
   "cell_type": "code",
   "execution_count": 39,
   "metadata": {},
   "outputs": [
    {
     "name": "stdout",
     "output_type": "stream",
     "text": [
      "224882.6\n"
     ]
    }
   ],
   "source": [
    "print(return_energy(data))"
   ]
  },
  {
   "cell_type": "code",
   "execution_count": 4,
   "metadata": {},
   "outputs": [],
   "source": [
    "## test = get_solar_building_insights(solar_key=solar_key, latitude=37.4449739, longitude=-122.13914659999998)"
   ]
  },
  {
   "cell_type": "code",
   "execution_count": 3,
   "metadata": {},
   "outputs": [],
   "source": [
    "def fetch_meter_usage(MPAN_import,serial_number):\n",
    "    api_key = os.environ['phil_key']\n",
    "    url = f\"https://api.octopus.energy/v1/electricity-meter-points/{MPAN_import}/meters/{serial_number}/consumption/\"\n",
    "    params = {\n",
    "        \"period_from\":\"2024-01-01 00:00:00\",\n",
    "        \"period_to\":\"2024-07-30 00:00:00\",\n",
    "        \"page_size\":\"20\"\n",
    "    }\n",
    "    response = requests.get(url,auth=(api_key,''), params = params)\n",
    "    return response.json()\n",
    "    "
   ]
  },
  {
   "cell_type": "code",
   "execution_count": 4,
   "metadata": {},
   "outputs": [],
   "source": [
    "test = fetch_meter_usage(os.environ['MPAN_import'],os.environ['serial_number'])"
   ]
  },
  {
   "cell_type": "code",
   "execution_count": 55,
   "metadata": {},
   "outputs": [],
   "source": [
    "#| export\n",
    "def fetch_latest_meter_data():\n",
    "    \"Function to get last hour of meter consumption data\" \n",
    "    api_key = os.environ['phil_key']\n",
    "    mpan = os.environ['MPAN_import']\n",
    "    serial_num = os.environ['serial_number']\n",
    "\n",
    "    end_time = datetime.now()\n",
    "    start_time = end_time - timedelta(hours=10)\n",
    "    url = f\"https://api.octopus.energy/v1/electricity-meter-points/{mpan}/meters/{serial_num}/consumption/\"\n",
    "    params = {\n",
    "        #\"period_from\":start_time.isoformat(),\n",
    "        #\"period_to\":end_time.isoformat(),\n",
    "        #'group_by':'hour',\n",
    "        \"page_size\":\"2\"\n",
    "    }\n",
    "    \n",
    "    response = requests.get(url, auth=(api_key, ''), params=params)\n",
    "    if response.status_code == 200:\n",
    "        data = response.json()\n",
    "        results = data['results'] if data['results'] else None\n",
    "        if results:\n",
    "            for result in results:\n",
    "                result['mpan_import'] = mpan\n",
    "                result['serial_number'] = serial_num\n",
    "        return results\n",
    "    else:\n",
    "        print(f\"Request failed with status code: {response.status_code}\")\n",
    "        return None\n",
    "    "
   ]
  },
  {
   "cell_type": "code",
   "execution_count": 6,
   "metadata": {},
   "outputs": [],
   "source": [
    "#| export\n",
    "def round_now_to_last_half_hour():\n",
    "    \"Helper function to round current time to last half hour\"\n",
    "    dt = datetime.now()\n",
    "    rounded = dt.replace(second=0, microsecond=0)\n",
    "    if rounded.minute >= 30:\n",
    "        rounded = rounded.replace(minute=30)\n",
    "    else:\n",
    "        rounded = rounded.replace(minute=0)\n",
    "    return rounded"
   ]
  },
  {
   "cell_type": "code",
   "execution_count": 96,
   "metadata": {},
   "outputs": [],
   "source": [
    "#| export\n",
    "def dummy_meter(page_size=2):\n",
    "    \"Meter data simulator that just generates random consumption values at every full half hour, at a given interval\"\n",
    "    responses = []\n",
    "    for item in range(0,page_size): \n",
    "        start_time = round_now_to_last_half_hour() - timedelta(minutes=30*(item+1))\n",
    "        end_time = round_now_to_last_half_hour() - timedelta(minutes=30*(item))\n",
    "        entry = {\n",
    "            'mpan_import': 'dummy',\n",
    "            'serial_number': f'dummy:{int(random.uniform(1,100))}',\n",
    "            'consumption': round(random.uniform(0, 0.3), 3),\n",
    "            'interval_start': start_time.isoformat(),\n",
    "            'interval_end': end_time.isoformat()\n",
    "        }\n",
    "        responses.append(entry)\n",
    "    return responses\n",
    "        \n",
    "    "
   ]
  },
  {
   "cell_type": "markdown",
   "metadata": {},
   "source": [
    "### Section setting up a database for the meter data and inserting it"
   ]
  },
  {
   "cell_type": "code",
   "execution_count": 111,
   "metadata": {},
   "outputs": [],
   "source": [
    "# Set up a database\n",
    "connection = sqlite3.connect('libregrid.db')"
   ]
  },
  {
   "cell_type": "code",
   "execution_count": 112,
   "metadata": {},
   "outputs": [],
   "source": [
    "# Set up my table for meter data\n",
    "cursor = connection.cursor()\n",
    "cursor.execute('''\n",
    "CREATE TABLE IF NOT EXISTS meter_data (\n",
    "mpan_import TEXT,\n",
    "serial_number TEXT,\n",
    "interval_start TEXT,\n",
    "interval_end TEXT,\n",
    "consumption REAL,\n",
    "PRIMARY KEY (mpan_import, serial_number, interval_start)\n",
    ")\n",
    "''')\n",
    "connection.commit()"
   ]
  },
  {
   "cell_type": "code",
   "execution_count": 81,
   "metadata": {},
   "outputs": [],
   "source": [
    "# Function to insert data \n",
    "async def insert_meter_data(consumption_list):\n",
    "    async with aiosqlite.connect('libregrid.db') as db:\n",
    "        await db.executemany('''\n",
    "        INSERT OR REPLACE INTO meter_data (mpan_import, serial_number, interval_start, interval_end, consumption)\n",
    "        VALUES (:mpan_import, :serial_number, :interval_start, :interval_end, :consumption)\n",
    "        ''', consumption_list)\n",
    "        await db.commit()"
   ]
  },
  {
   "cell_type": "code",
   "execution_count": 74,
   "metadata": {},
   "outputs": [],
   "source": [
    "# Function to get data\n",
    "async def get_meter_data():\n",
    "    async with aiosqlite.connect('libregrid.db') as db:\n",
    "        async with db.execute('SELECT * FROM meter_data') as cursor:\n",
    "            rows = await cursor.fetchall()\n",
    "            columns = [description[0] for description in cursor.description]\n",
    "            return [dict(zip(columns, row)) for row in rows]"
   ]
  },
  {
   "cell_type": "code",
   "execution_count": 95,
   "metadata": {},
   "outputs": [
    {
     "data": {
      "text/plain": [
       "[{'mpan_import': 'dummy',\n",
       "  'serial_number': 'dummy:2',\n",
       "  'consumption': 0.031,\n",
       "  'interval_start': '2024-08-20T16:30:00',\n",
       "  'interval_end': '2024-08-20T17:00:00'},\n",
       " {'mpan_import': 'dummy',\n",
       "  'serial_number': 'dummy:7',\n",
       "  'consumption': 0.29,\n",
       "  'interval_start': '2024-08-20T16:00:00',\n",
       "  'interval_end': '2024-08-20T16:30:00'}]"
      ]
     },
     "execution_count": 95,
     "metadata": {},
     "output_type": "execute_result"
    }
   ],
   "source": [
    "result = dummy_meter()\n",
    "result"
   ]
  },
  {
   "cell_type": "code",
   "execution_count": null,
   "metadata": {},
   "outputs": [],
   "source": [
    "await insert_meter_data(result)"
   ]
  },
  {
   "cell_type": "code",
   "execution_count": 100,
   "metadata": {},
   "outputs": [
    {
     "data": {
      "text/plain": [
       "[{'consumption': 0.144,\n",
       "  'interval_start': '2024-08-20T00:30:00+01:00',\n",
       "  'interval_end': '2024-08-20T01:00:00+01:00',\n",
       "  'mpan_import': '1413985791007',\n",
       "  'serial_number': '21J0016813'},\n",
       " {'consumption': 0.143,\n",
       "  'interval_start': '2024-08-20T00:00:00+01:00',\n",
       "  'interval_end': '2024-08-20T00:30:00+01:00',\n",
       "  'mpan_import': '1413985791007',\n",
       "  'serial_number': '21J0016813'}]"
      ]
     },
     "execution_count": 100,
     "metadata": {},
     "output_type": "execute_result"
    }
   ],
   "source": [
    "result_real = await fetch_latest_meter_data()\n",
    "result_real\n"
   ]
  },
  {
   "cell_type": "code",
   "execution_count": 113,
   "metadata": {},
   "outputs": [],
   "source": [
    "await insert_meter_data(result_real)"
   ]
  },
  {
   "cell_type": "code",
   "execution_count": 114,
   "metadata": {},
   "outputs": [
    {
     "data": {
      "text/plain": [
       "[{'mpan_import': '1413985791007',\n",
       "  'serial_number': '21J0016813',\n",
       "  'interval_start': '2024-08-20T00:30:00+01:00',\n",
       "  'interval_end': '2024-08-20T01:00:00+01:00',\n",
       "  'consumption': 0.144},\n",
       " {'mpan_import': '1413985791007',\n",
       "  'serial_number': '21J0016813',\n",
       "  'interval_start': '2024-08-20T00:00:00+01:00',\n",
       "  'interval_end': '2024-08-20T00:30:00+01:00',\n",
       "  'consumption': 0.143}]"
      ]
     },
     "execution_count": 114,
     "metadata": {},
     "output_type": "execute_result"
    }
   ],
   "source": [
    "await get_meter_data()"
   ]
  },
  {
   "cell_type": "code",
   "execution_count": 115,
   "metadata": {},
   "outputs": [],
   "source": [
    "connection.close()"
   ]
  },
  {
   "cell_type": "code",
   "execution_count": null,
   "metadata": {},
   "outputs": [],
   "source": []
  }
 ],
 "metadata": {
  "kernelspec": {
   "display_name": "my_kernel",
   "language": "python",
   "name": "my_kernel"
  },
  "language_info": {
   "codemirror_mode": {
    "name": "ipython",
    "version": 3
   },
   "file_extension": ".py",
   "mimetype": "text/x-python",
   "name": "python",
   "nbconvert_exporter": "python",
   "pygments_lexer": "ipython3",
   "version": "3.11.9"
  }
 },
 "nbformat": 4,
 "nbformat_minor": 4
}
