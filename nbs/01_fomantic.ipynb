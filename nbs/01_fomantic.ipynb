{
 "cells": [
  {
   "cell_type": "code",
   "execution_count": 2,
   "metadata": {},
   "outputs": [],
   "source": [
    "#| default_exp fomantic"
   ]
  },
  {
   "cell_type": "code",
   "execution_count": 3,
   "metadata": {},
   "outputs": [],
   "source": [
    "#| export\n",
    "from fasthtml.common import *\n",
    "from fastcore.meta import delegates"
   ]
  },
  {
   "cell_type": "code",
   "execution_count": 4,
   "metadata": {},
   "outputs": [],
   "source": [
    "#| export\n",
    "fui_hdrs = [\n",
    "    Link(href=f\"https://cdn.jsdelivr.net/npm/fomantic-ui@2.9.3/dist/semantic.min.css\", rel=\"stylesheet\"),\n",
    "    # Script(src=\"https://cdn.jsdelivr.net/npm/jquery@3.7.1/dist/jquery.min.js\"),\n",
    "    # Script(src=\"https://cdn.jsdelivr.net/npm/fomantic-ui@2.9.3/dist/semantic.min.js\"),\n",
    "]"
   ]
  },
  {
   "cell_type": "code",
   "execution_count": 5,
   "metadata": {},
   "outputs": [],
   "source": [
    "#| export\n",
    "@delegates(Div, keep=True)\n",
    "def HeroSegment(title, subtitle, *c, **kwargs) -> FT:\n",
    "    return Div(\n",
    "        H1(title, cls=\"ui inverted header\"),\n",
    "        H2(subtitle),\n",
    "        cls=\"ui inverted vertical masthead center aligned segment\", *c, **kwargs)\n",
    "\n",
    "@delegates(Div, keep=True)\n",
    "def Segment(*c, cls=\"ui segment\", **kwargs) -> FT:\n",
    "    return Div(*c, cls=cls, **kwargs)\n",
    "\n",
    "@delegates(Div, keep=True)\n",
    "def VerticalStripeSegment(*c, cls=\"ui vertical stripe segment\", **kwargs) -> FT:\n",
    "    \"A Fomantic UI Vertical Stripe Segment, from the homepage example\"\n",
    "    return Div(*c, cls=cls, **kwargs)"
   ]
  },
  {
   "cell_type": "code",
   "execution_count": 16,
   "metadata": {},
   "outputs": [
    {
     "ename": "TypeError",
     "evalue": "functools.partial(<function ft_hx at 0x10c8dcfe0>, 'div') got multiple values for keyword argument 'cls'",
     "output_type": "error",
     "traceback": [
      "\u001b[0;31m---------------------------------------------------------------------------\u001b[0m",
      "\u001b[0;31mTypeError\u001b[0m                                 Traceback (most recent call last)",
      "Cell \u001b[0;32mIn[16], line 1\u001b[0m\n\u001b[0;32m----> 1\u001b[0m \u001b[43mHeroSegment\u001b[49m\u001b[43m(\u001b[49m\u001b[38;5;124;43m\"\u001b[39;49m\u001b[38;5;124;43mone\u001b[39;49m\u001b[38;5;124;43m\"\u001b[39;49m\u001b[43m,\u001b[49m\u001b[43m \u001b[49m\u001b[38;5;124;43m\"\u001b[39;49m\u001b[38;5;124;43mtwo\u001b[39;49m\u001b[38;5;124;43m\"\u001b[39;49m\u001b[43m,\u001b[49m\u001b[43m \u001b[49m\u001b[38;5;28;43mcls\u001b[39;49m\u001b[38;5;241;43m=\u001b[39;49m\u001b[38;5;124;43m\"\u001b[39;49m\u001b[38;5;124;43mblarg\u001b[39;49m\u001b[38;5;124;43m\"\u001b[39;49m\u001b[43m)\u001b[49m\n",
      "Cell \u001b[0;32mIn[5], line 4\u001b[0m, in \u001b[0;36mHeroSegment\u001b[0;34m(title, subtitle, *c, **kwargs)\u001b[0m\n\u001b[1;32m      2\u001b[0m \u001b[38;5;129m@delegates\u001b[39m(Div, keep\u001b[38;5;241m=\u001b[39m\u001b[38;5;28;01mTrue\u001b[39;00m)\n\u001b[1;32m      3\u001b[0m \u001b[38;5;28;01mdef\u001b[39;00m \u001b[38;5;21mHeroSegment\u001b[39m(title, subtitle, \u001b[38;5;241m*\u001b[39mc, \u001b[38;5;241m*\u001b[39m\u001b[38;5;241m*\u001b[39mkwargs) \u001b[38;5;241m-\u001b[39m\u001b[38;5;241m>\u001b[39m FT:\n\u001b[0;32m----> 4\u001b[0m     \u001b[38;5;28;01mreturn\u001b[39;00m Div(\n\u001b[1;32m      5\u001b[0m         H1(title, \u001b[38;5;28mcls\u001b[39m\u001b[38;5;241m=\u001b[39m\u001b[38;5;124m\"\u001b[39m\u001b[38;5;124mui inverted header\u001b[39m\u001b[38;5;124m\"\u001b[39m),\n\u001b[1;32m      6\u001b[0m         H2(subtitle),\n\u001b[1;32m      7\u001b[0m         \u001b[38;5;28mcls\u001b[39m\u001b[38;5;241m=\u001b[39m\u001b[38;5;124m\"\u001b[39m\u001b[38;5;124mui inverted vertical masthead center aligned segment\u001b[39m\u001b[38;5;124m\"\u001b[39m, \u001b[38;5;241m*\u001b[39mc, \u001b[38;5;241m*\u001b[39m\u001b[38;5;241m*\u001b[39mkwargs)\n",
      "\u001b[0;31mTypeError\u001b[0m: functools.partial(<function ft_hx at 0x10c8dcfe0>, 'div') got multiple values for keyword argument 'cls'"
     ]
    }
   ],
   "source": [
    "HeroSegment(\"one\", \"two\", cls=\"blarg\")"
   ]
  },
  {
   "cell_type": "code",
   "execution_count": 15,
   "metadata": {},
   "outputs": [
    {
     "data": {
      "text/markdown": [
       "```html\n",
       "<div class=\"asdad\">Hello</div>\n",
       "\n",
       "```"
      ],
      "text/plain": [
       "['div', ('Hello',), {'class': 'asdad'}]"
      ]
     },
     "execution_count": 15,
     "metadata": {},
     "output_type": "execute_result"
    }
   ],
   "source": [
    "Segment(\"Hello\", cls=\"asdad\",)"
   ]
  },
  {
   "cell_type": "code",
   "execution_count": 7,
   "metadata": {},
   "outputs": [],
   "source": [
    "#| export\n",
    "@delegates(Div, keep=True)\n",
    "def Grid(*c, cls=\"ui grid container\", **kwargs) -> FT:\n",
    "    \"A Fomantic UI Grid\"\n",
    "    return Div(*c, cls=cls, **kwargs)"
   ]
  },
  {
   "cell_type": "code",
   "execution_count": 8,
   "metadata": {},
   "outputs": [],
   "source": [
    "#| export\n",
    "@delegates(Div, keep=True)\n",
    "def Column(*c, cls=\"column\", **kwargs) -> FT:\n",
    "    \"A Fomantic UI Column\"\n",
    "    return Div(*c, cls=cls, **kwargs)"
   ]
  }
 ],
 "metadata": {
  "kernelspec": {
   "display_name": "python3",
   "language": "python",
   "name": "python3"
  },
  "language_info": {
   "codemirror_mode": {
    "name": "ipython",
    "version": 3
   },
   "file_extension": ".py",
   "mimetype": "text/x-python",
   "name": "python",
   "nbconvert_exporter": "python",
   "pygments_lexer": "ipython3",
   "version": "3.11.9"
  }
 },
 "nbformat": 4,
 "nbformat_minor": 2
}
