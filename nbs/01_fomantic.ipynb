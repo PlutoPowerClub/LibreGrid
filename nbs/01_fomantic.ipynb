{
 "cells": [
  {
   "cell_type": "code",
   "execution_count": null,
   "metadata": {},
   "outputs": [],
   "source": [
    "#| default_exp fomantic"
   ]
  },
  {
   "cell_type": "code",
   "execution_count": null,
   "metadata": {},
   "outputs": [],
   "source": [
    "#| export\n",
    "from fasthtml.common import *\n",
    "from fastcore.meta import delegates"
   ]
  },
  {
   "cell_type": "code",
   "execution_count": null,
   "metadata": {},
   "outputs": [],
   "source": [
    "#| export\n",
    "fui_hdrs = [\n",
    "    Link(href=f\"https://cdn.jsdelivr.net/npm/fomantic-ui@2.9.3/dist/semantic.min.css\", rel=\"stylesheet\"),\n",
    "    # Script(src=\"https://cdn.jsdelivr.net/npm/jquery@3.7.1/dist/jquery.min.js\"),\n",
    "    # Script(src=\"https://cdn.jsdelivr.net/npm/fomantic-ui@2.9.3/dist/semantic.min.js\"),\n",
    "]"
   ]
  },
  {
   "cell_type": "code",
   "execution_count": null,
   "metadata": {},
   "outputs": [],
   "source": [
    "#| export\n",
    "@delegates(Div, keep=True)\n",
    "def HeroSegment(title, subtitle, inverted=True, *c, **kwargs) -> FT:\n",
    "    return Div(\n",
    "        H1(title, cls=\"ui inverted header\"),\n",
    "        H2(subtitle),\n",
    "        cls=f\"ui {'inverted ' if inverted else ''}vertical masthead center aligned segment\", *c, **kwargs)\n",
    "\n",
    "@delegates(Div, keep=True)\n",
    "def Segment(*c, cls=\"ui segment\", **kwargs) -> FT:\n",
    "    return Div(*c, cls=cls, **kwargs)\n",
    "\n",
    "@delegates(Div, keep=True)\n",
    "def VerticalStripeSegment(*c, cls=\"ui vertical stripe segment\", **kwargs) -> FT:\n",
    "    \"A Fomantic UI Vertical Stripe Segment, from the homepage example\"\n",
    "    return Div(*c, cls=cls, **kwargs)"
   ]
  },
  {
   "cell_type": "code",
   "execution_count": null,
   "metadata": {},
   "outputs": [
    {
     "data": {
      "text/markdown": [
       "```html\n",
       "<div class=\"ui inverted vertical masthead center aligned segment\">\n",
       "  <div class=\"ui text container\">\n",
       "    <h1 class=\"ui inverted header\">one</h1>\n",
       "    <h2>two</h2>\n",
       "  </div>\n",
       "</div>\n",
       "\n",
       "```"
      ],
      "text/plain": [
       "['div',\n",
       " (['div',\n",
       "   (['h1', ('one',), {'class': 'ui inverted header'}], ['h2', ('two',), {}]),\n",
       "   {'class': 'ui text container'}],),\n",
       " {'class': 'ui inverted vertical masthead center aligned segment'}]"
      ]
     },
     "execution_count": null,
     "metadata": {},
     "output_type": "execute_result"
    }
   ],
   "source": [
    "HeroSegment(\"one\", \"two\", )"
   ]
  },
  {
   "cell_type": "code",
   "execution_count": null,
   "metadata": {},
   "outputs": [],
   "source": []
  },
  {
   "cell_type": "code",
   "execution_count": null,
   "metadata": {},
   "outputs": [
    {
     "data": {
      "text/markdown": [
       "```html\n",
       "<div class=\"asdad\">Hello</div>\n",
       "\n",
       "```"
      ],
      "text/plain": [
       "['div', ('Hello',), {'class': 'asdad'}]"
      ]
     },
     "execution_count": null,
     "metadata": {},
     "output_type": "execute_result"
    }
   ],
   "source": [
    "Segment(\"Hello\", cls=\"asdad\",)"
   ]
  },
  {
   "cell_type": "code",
   "execution_count": null,
   "metadata": {},
   "outputs": [],
   "source": [
    "#| export\n",
    "@delegates(Div, keep=True)\n",
    "def Grid(*c, cls=\"ui grid container\", **kwargs) -> FT:\n",
    "    \"A Fomantic UI Grid\"\n",
    "    return Div(*c, cls=cls, **kwargs)"
   ]
  },
  {
   "cell_type": "code",
   "execution_count": null,
   "metadata": {},
   "outputs": [],
   "source": [
    "#| export\n",
    "@delegates(Div, keep=True)\n",
    "def Column(*c, cls=\"column\", **kwargs) -> FT:\n",
    "    \"A Fomantic UI Column\"\n",
    "    return Div(*c, cls=cls, **kwargs)"
   ]
  }
 ],
 "metadata": {
  "kernelspec": {
   "display_name": "python3",
   "language": "python",
   "name": "python3"
  }
 },
 "nbformat": 4,
 "nbformat_minor": 2
}
